{
  "nbformat": 4,
  "nbformat_minor": 0,
  "metadata": {
    "colab": {
      "name": "Day1 Session2 Example Programs.ipynb",
      "provenance": [],
      "authorship_tag": "ABX9TyM5Q1aBsT5N7XUeA1SUvOw6"
    },
    "kernelspec": {
      "name": "python3",
      "display_name": "Python 3"
    }
  },
  "cells": [
    {
      "cell_type": "markdown",
      "metadata": {
        "id": "Kib0UYFvi7Hb",
        "colab_type": "text"
      },
      "source": [
        "Python Program to find the factorial of a number using loop. \n"
      ]
    },
    {
      "cell_type": "code",
      "metadata": {
        "id": "RC6cYcOvjECi",
        "colab_type": "code",
        "colab": {
          "base_uri": "https://localhost:8080/",
          "height": 68
        },
        "outputId": "1eacc1f5-c829-44ca-ab3f-5c0437e6f6b6"
      },
      "source": [
        "n=int(input(\"Enter number:\"))\n",
        "fact=1\n",
        "\n",
        "while(n>0):\n",
        "  fact=fact*n\n",
        "  n=n-1\n",
        "print(\"Factorial of the number is: \")\n",
        "print(fact)\n"
      ],
      "execution_count": 2,
      "outputs": [
        {
          "output_type": "stream",
          "text": [
            "Enter number:4\n",
            "Factorial of the number is: \n",
            "24\n"
          ],
          "name": "stdout"
        }
      ]
    },
    {
      "cell_type": "markdown",
      "metadata": {
        "id": "M0CXfg3TjVCu",
        "colab_type": "text"
      },
      "source": [
        "Python Program to reverse a number using loop \n"
      ]
    },
    {
      "cell_type": "code",
      "metadata": {
        "id": "jfYfQpiKjdVq",
        "colab_type": "code",
        "colab": {
          "base_uri": "https://localhost:8080/",
          "height": 68
        },
        "outputId": "7909acee-18d2-41d9-cf5e-6d5d4815cf70"
      },
      "source": [
        "r=0\n",
        "n=int(input(\"Enter a number: \"))\n",
        "while(n>0):\n",
        "  dig=n%10\n",
        "  r=r*10+dig\n",
        "  n=n//10\n",
        "print(\"The reversed no  is:\")\n",
        "print(r)\n"
      ],
      "execution_count": 3,
      "outputs": [
        {
          "output_type": "stream",
          "text": [
            "Enter a number: 123\n",
            "The reversed no  is:\n",
            "321\n"
          ],
          "name": "stdout"
        }
      ]
    },
    {
      "cell_type": "markdown",
      "metadata": {
        "id": "AL-Pd5NBjmdB",
        "colab_type": "text"
      },
      "source": [
        "Write a Python program to construct the following pattern, using a nested for loop.\n",
        "* \n",
        "* * \n",
        "* * * \n",
        "* * * * \n",
        "* * * * * \n",
        "* * * * \n",
        "* * * \n",
        "* * \n",
        "*\n"
      ]
    },
    {
      "cell_type": "code",
      "metadata": {
        "id": "nzBGlKjSjuaB",
        "colab_type": "code",
        "colab": {
          "base_uri": "https://localhost:8080/",
          "height": 187
        },
        "outputId": "5d02f0fc-df90-4d30-a6e1-8976e7ed1776"
      },
      "source": [
        "n=5;\n",
        "for i in range(n):\n",
        "  for j in range(i):\n",
        "    print ('* ', end=\"\")\n",
        "  print('')\n",
        "\n",
        "for i in range(n,0,-1):\n",
        "  for j in range(i):\n",
        "    print('* ', end=\"\")\n",
        "  print('')\n"
      ],
      "execution_count": 7,
      "outputs": [
        {
          "output_type": "stream",
          "text": [
            "\n",
            "* \n",
            "* * \n",
            "* * * \n",
            "* * * * \n",
            "* * * * * \n",
            "* * * * \n",
            "* * * \n",
            "* * \n",
            "* \n"
          ],
          "name": "stdout"
        }
      ]
    },
    {
      "cell_type": "markdown",
      "metadata": {
        "id": "lb-MQi2ekFyW",
        "colab_type": "text"
      },
      "source": [
        "Python Program to replace all occurrences of ‘a’ with ‘$’ in a string. \n"
      ]
    },
    {
      "cell_type": "code",
      "metadata": {
        "id": "NsLKLRUkkOBD",
        "colab_type": "code",
        "colab": {
          "base_uri": "https://localhost:8080/",
          "height": 68
        },
        "outputId": "b5fd3744-8adc-47e9-d87b-b4ebb7f3d2b9"
      },
      "source": [
        "string=input(\"Enter string:\")\n",
        "string=string.replace('a','$')\n",
        "string=string.replace('A','$')\n",
        "print(\"Modified string:\")\n",
        "print(string)"
      ],
      "execution_count": 8,
      "outputs": [
        {
          "output_type": "stream",
          "text": [
            "Enter string:Akshat\n",
            "Modified string:\n",
            "$ksh$t\n"
          ],
          "name": "stdout"
        }
      ]
    },
    {
      "cell_type": "markdown",
      "metadata": {
        "id": "9WhA0v0mkUPx",
        "colab_type": "text"
      },
      "source": [
        "Python Program to remove the nth index character from a non-empty string. \n"
      ]
    },
    {
      "cell_type": "code",
      "metadata": {
        "id": "f_1BWhTmkcas",
        "colab_type": "code",
        "colab": {
          "base_uri": "https://localhost:8080/",
          "height": 85
        },
        "outputId": "2e797608-4c44-4549-e265-5ad0826bdcc2"
      },
      "source": [
        "def remove(string, n):  \n",
        "  first = string[:n]   \n",
        "  last = string[n+1:]  \n",
        "  return first + last\n",
        "string=input(\"Enter the string:\")\n",
        "n=int(input(\"Enter the index of the character to remove:\"))\n",
        "print(\"Modified string:\")\n",
        "print(remove(string, n))"
      ],
      "execution_count": 12,
      "outputs": [
        {
          "output_type": "stream",
          "text": [
            "Enter the string:akshat\n",
            "Enter the index of the character to remove:4\n",
            "Modified string:\n",
            "aksht\n"
          ],
          "name": "stdout"
        }
      ]
    },
    {
      "cell_type": "markdown",
      "metadata": {
        "id": "KCtmTj9Wk1iJ",
        "colab_type": "text"
      },
      "source": [
        "Python Program to detect if two strings are anagrams. \n"
      ]
    },
    {
      "cell_type": "code",
      "metadata": {
        "id": "EnT7sfhElCZM",
        "colab_type": "code",
        "colab": {
          "base_uri": "https://localhost:8080/",
          "height": 68
        },
        "outputId": "ee3ba092-643e-4016-fec8-4dfb0e349e65"
      },
      "source": [
        "s1=input(\"Enter first string:\")\n",
        "s2=input(\"Enter second string:\")\n",
        "if(sorted(s1)==sorted(s2)):\n",
        "  print(\"The strings are anagrams.\")\n",
        "else:\n",
        "  print(\"The strings aren't anagrams.\")"
      ],
      "execution_count": 13,
      "outputs": [
        {
          "output_type": "stream",
          "text": [
            "Enter first string:akshat\n",
            "Enter second string:akshat\n",
            "The strings are anagrams.\n"
          ],
          "name": "stdout"
        }
      ]
    },
    {
      "cell_type": "markdown",
      "metadata": {
        "id": "GmmXvSJClJ59",
        "colab_type": "text"
      },
      "source": [
        "Python Program to form a string where the first character and the last character have been exchanged. \n"
      ]
    },
    {
      "cell_type": "code",
      "metadata": {
        "id": "1A9qSih7lTQD",
        "colab_type": "code",
        "colab": {
          "base_uri": "https://localhost:8080/",
          "height": 68
        },
        "outputId": "8dd72cab-d083-4f4f-f793-8e32ef6ae1a3"
      },
      "source": [
        "def change(string):\n",
        "  return string[-1:] + string[1:-1] + string[:1]\n",
        "string=input(\"Enter string:\")\n",
        "print(\"Modified string:\")\n",
        "print(change(string))"
      ],
      "execution_count": 15,
      "outputs": [
        {
          "output_type": "stream",
          "text": [
            "Enter string:akshat\n",
            "Modified string:\n",
            "tkshaa\n"
          ],
          "name": "stdout"
        }
      ]
    },
    {
      "cell_type": "markdown",
      "metadata": {
        "id": "O3tUT1_ul3Kz",
        "colab_type": "text"
      },
      "source": [
        "Python Program to  count number of vowels from a non-empty string. \n"
      ]
    },
    {
      "cell_type": "code",
      "metadata": {
        "id": "oEy-5WgZl6TD",
        "colab_type": "code",
        "colab": {
          "base_uri": "https://localhost:8080/",
          "height": 68
        },
        "outputId": "a7816d2f-ff00-4a1f-dbdc-3959e33a1866"
      },
      "source": [
        "string=input(\"Enter string:\")\n",
        "vowels=0\n",
        "for i in string:\n",
        "  if(i=='a' or i=='e' or i=='i' or i=='o' or i=='u' or i=='A' or i=='E' or i=='I' or i=='O' or i=='U'):\n",
        "    vowels=vowels+1\n",
        "print(\"Number of vowels are:\")\n",
        "print(vowels)"
      ],
      "execution_count": 16,
      "outputs": [
        {
          "output_type": "stream",
          "text": [
            "Enter string:World is in Danger\n",
            "Number of vowels are:\n",
            "5\n"
          ],
          "name": "stdout"
        }
      ]
    },
    {
      "cell_type": "markdown",
      "metadata": {
        "id": "HMYCLfLRmGoz",
        "colab_type": "text"
      },
      "source": [
        "Program for Divide by zero error detection"
      ]
    },
    {
      "cell_type": "code",
      "metadata": {
        "id": "H9fG1PbkmLC6",
        "colab_type": "code",
        "colab": {
          "base_uri": "https://localhost:8080/",
          "height": 170
        },
        "outputId": "6eaa2cfd-af17-4ce9-a6c0-377e7d6a35fb"
      },
      "source": [
        "flag = True\n",
        "\n",
        "def div(a, b):  \n",
        "  try:\n",
        "    print(\"Finally the division of %d/%d is %f\" % (a, b,a/b))\n",
        "    global flag\n",
        "    flag=False\n",
        "  except ZeroDivisionError:\n",
        "    print(\"Zero Division Error detected\")\n",
        "  else:\n",
        "    print(\"Division is successful\") \n",
        "  finally:\n",
        "    if flag is True:\n",
        "      print(\"Try again\")     \n",
        "    else:\n",
        "      print(\"Thank you\")\n",
        "\n",
        "while flag is True:\n",
        "  div(int(input(\"Enter numerator\")),int(input(\"Enter denominator\")))\n"
      ],
      "execution_count": 19,
      "outputs": [
        {
          "output_type": "stream",
          "text": [
            "Enter numerator5\n",
            "Enter denominator0\n",
            "Zero Division Error detected\n",
            "Try again\n",
            "Enter numerator5\n",
            "Enter denominator6\n",
            "Finally the division of 5/6 is 0.833333\n",
            "Division is successful\n",
            "Thank you\n"
          ],
          "name": "stdout"
        }
      ]
    },
    {
      "cell_type": "markdown",
      "metadata": {
        "id": "Sa7NRiz-ms5e",
        "colab_type": "text"
      },
      "source": [
        "Program for ValueError error detection"
      ]
    },
    {
      "cell_type": "code",
      "metadata": {
        "id": "DLke6uzbmxh7",
        "colab_type": "code",
        "colab": {
          "base_uri": "https://localhost:8080/",
          "height": 85
        },
        "outputId": "634dd91c-853a-4135-dfc1-665b381dc01f"
      },
      "source": [
        "while True:\n",
        "  try:\n",
        "    x = int(input(\"Please enter a number: \"))\n",
        "    print(\" That was valid number. Thank you\")\n",
        "    break\n",
        "  except ValueError:\n",
        "    print(\"Oops!  That was no valid number.  Try again...\")\n"
      ],
      "execution_count": 27,
      "outputs": [
        {
          "output_type": "stream",
          "text": [
            "Please enter a number: aa\n",
            "Oops!  That was no valid number.  Try again...\n",
            "Please enter a number: 23\n",
            " That was valid number. Thank you\n"
          ],
          "name": "stdout"
        }
      ]
    }
  ]
}