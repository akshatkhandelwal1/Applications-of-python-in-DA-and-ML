{
  "nbformat": 4,
  "nbformat_minor": 0,
  "metadata": {
    "colab": {
      "name": "Day2 Session1 Exercise Programs.ipynb",
      "provenance": [],
      "authorship_tag": "ABX9TyMatykxZo/7grodAN4DBoWn"
    },
    "kernelspec": {
      "name": "python3",
      "display_name": "Python 3"
    }
  },
  "cells": [
    {
      "cell_type": "markdown",
      "metadata": {
        "id": "n-pjb3rsPZ0q",
        "colab_type": "text"
      },
      "source": [
        "List  exercises"
      ]
    },
    {
      "cell_type": "markdown",
      "metadata": {
        "id": "s_EHm7Y3PbaZ",
        "colab_type": "text"
      },
      "source": [
        "print multiples of 3 upto 200 using a list"
      ]
    },
    {
      "cell_type": "code",
      "metadata": {
        "id": "9QuVAGprPfTF",
        "colab_type": "code",
        "colab": {
          "base_uri": "https://localhost:8080/",
          "height": 54
        },
        "outputId": "313a6667-edbd-466f-b615-4a39b5a9651d"
      },
      "source": [
        "n1=[]  \n",
        "for i in range(1,201): \n",
        "  if (i % 3 == 0):\n",
        "    n1.append(str(i))\n",
        "print(','.join(n1))"
      ],
      "execution_count": 19,
      "outputs": [
        {
          "output_type": "stream",
          "text": [
            "3,6,9,12,15,18,21,24,27,30,33,36,39,42,45,48,51,54,57,60,63,66,69,72,75,78,81,84,87,90,93,96,99,102,105,108,111,114,117,120,123,126,129,132,135,138,141,144,147,150,153,156,159,162,165,168,171,174,177,180,183,186,189,192,195,198\n"
          ],
          "name": "stdout"
        }
      ]
    },
    {
      "cell_type": "markdown",
      "metadata": {
        "id": "R1ZWCzzuWDbu",
        "colab_type": "text"
      },
      "source": [
        "print the nos only divisable by 5 and 7 between 1000 and 2000 using a list( both inclusive)"
      ]
    },
    {
      "cell_type": "code",
      "metadata": {
        "id": "iwhPc3d2WVEA",
        "colab_type": "code",
        "colab": {
          "base_uri": "https://localhost:8080/",
          "height": 54
        },
        "outputId": "ad596400-4a7c-4e45-d993-73039307a16f"
      },
      "source": [
        "nl=[]\n",
        "for x in range(1000, 2001):\n",
        "    if (x%7==0) or (x%5==0):\n",
        "        nl.append(str(x))\n",
        "print (','.join(nl))\n"
      ],
      "execution_count": 14,
      "outputs": [
        {
          "output_type": "stream",
          "text": [
            "1000,1001,1005,1008,1010,1015,1020,1022,1025,1029,1030,1035,1036,1040,1043,1045,1050,1055,1057,1060,1064,1065,1070,1071,1075,1078,1080,1085,1090,1092,1095,1099,1100,1105,1106,1110,1113,1115,1120,1125,1127,1130,1134,1135,1140,1141,1145,1148,1150,1155,1160,1162,1165,1169,1170,1175,1176,1180,1183,1185,1190,1195,1197,1200,1204,1205,1210,1211,1215,1218,1220,1225,1230,1232,1235,1239,1240,1245,1246,1250,1253,1255,1260,1265,1267,1270,1274,1275,1280,1281,1285,1288,1290,1295,1300,1302,1305,1309,1310,1315,1316,1320,1323,1325,1330,1335,1337,1340,1344,1345,1350,1351,1355,1358,1360,1365,1370,1372,1375,1379,1380,1385,1386,1390,1393,1395,1400,1405,1407,1410,1414,1415,1420,1421,1425,1428,1430,1435,1440,1442,1445,1449,1450,1455,1456,1460,1463,1465,1470,1475,1477,1480,1484,1485,1490,1491,1495,1498,1500,1505,1510,1512,1515,1519,1520,1525,1526,1530,1533,1535,1540,1545,1547,1550,1554,1555,1560,1561,1565,1568,1570,1575,1580,1582,1585,1589,1590,1595,1596,1600,1603,1605,1610,1615,1617,1620,1624,1625,1630,1631,1635,1638,1640,1645,1650,1652,1655,1659,1660,1665,1666,1670,1673,1675,1680,1685,1687,1690,1694,1695,1700,1701,1705,1708,1710,1715,1720,1722,1725,1729,1730,1735,1736,1740,1743,1745,1750,1755,1757,1760,1764,1765,1770,1771,1775,1778,1780,1785,1790,1792,1795,1799,1800,1805,1806,1810,1813,1815,1820,1825,1827,1830,1834,1835,1840,1841,1845,1848,1850,1855,1860,1862,1865,1869,1870,1875,1876,1880,1883,1885,1890,1895,1897,1900,1904,1905,1910,1911,1915,1918,1920,1925,1930,1932,1935,1939,1940,1945,1946,1950,1953,1955,1960,1965,1967,1970,1974,1975,1980,1981,1985,1988,1990,1995,2000\n"
          ],
          "name": "stdout"
        }
      ]
    },
    {
      "cell_type": "markdown",
      "metadata": {
        "id": "JkR23fzjW915",
        "colab_type": "text"
      },
      "source": [
        "Add the n number of names in a list and print them alphabetically and reverse alphabetically"
      ]
    },
    {
      "cell_type": "code",
      "metadata": {
        "id": "ZwVC3i8nXHh_",
        "colab_type": "code",
        "colab": {
          "base_uri": "https://localhost:8080/",
          "height": 136
        },
        "outputId": "07eb799b-a788-4198-9f36-00179d959ec9"
      },
      "source": [
        "x=0\n",
        "lst=[input(x) for i in range(int(input(\"Enter n\")))]\n",
        "lst.sort()\n",
        "print(lst)\n",
        "lst.sort(reverse=True)\n",
        "print(lst)"
      ],
      "execution_count": 6,
      "outputs": [
        {
          "output_type": "stream",
          "text": [
            "Enter n4\n",
            "akshat\n",
            "anish\n",
            "rahul\n",
            "dev\n",
            "['akshat', 'anish', 'dev', 'rahul']\n",
            "['rahul', 'dev', 'anish', 'akshat']\n"
          ],
          "name": "stdout"
        }
      ]
    },
    {
      "cell_type": "markdown",
      "metadata": {
        "id": "sc4rPHSAKXm8",
        "colab_type": "text"
      },
      "source": [
        "Print perfect squares and divisible by 5 between 500 and 1000( (both inclusive) using list"
      ]
    },
    {
      "cell_type": "code",
      "metadata": {
        "id": "vMryyYsIKYoF",
        "colab_type": "code",
        "colab": {
          "base_uri": "https://localhost:8080/",
          "height": 34
        },
        "outputId": "16a964d1-4ec8-4dbb-a6a4-38392ee1b696"
      },
      "source": [
        "import math\n",
        "print([i for i in range(500,1001) if i%5==0 and (math.sqrt(i) - math.floor(math.sqrt(i))) == 0])"
      ],
      "execution_count": 7,
      "outputs": [
        {
          "output_type": "stream",
          "text": [
            "[625, 900]\n"
          ],
          "name": "stdout"
        }
      ]
    },
    {
      "cell_type": "markdown",
      "metadata": {
        "id": "UuF_ymFiKmGs",
        "colab_type": "text"
      },
      "source": [
        "Tuple exercises"
      ]
    },
    {
      "cell_type": "markdown",
      "metadata": {
        "id": "MuKq7xnIKpJj",
        "colab_type": "text"
      },
      "source": [
        "Get  a string and store word by word as elements in a tuple and find the largest word in the  tuple and print it"
      ]
    },
    {
      "cell_type": "code",
      "metadata": {
        "id": "Wd_zeT_1KzIX",
        "colab_type": "code",
        "colab": {
          "base_uri": "https://localhost:8080/",
          "height": 51
        },
        "outputId": "546bb468-2837-4c1b-aef3-2edc83284bbd"
      },
      "source": [
        "print(max((tuple(input(\"Enter a string: \").split())),key=len))"
      ],
      "execution_count": 8,
      "outputs": [
        {
          "output_type": "stream",
          "text": [
            "Enter a string: my name is akshat\n",
            "akshat\n"
          ],
          "name": "stdout"
        }
      ]
    },
    {
      "cell_type": "markdown",
      "metadata": {
        "id": "OP1IrDNgK74i",
        "colab_type": "text"
      },
      "source": [
        "\n",
        "Get rollno and marks (Rollno, mark) as list of tuples for n number of students through keyboard and print them in marks descending order with rollno"
      ]
    },
    {
      "cell_type": "code",
      "metadata": {
        "id": "SZypYMYNK-vy",
        "colab_type": "code",
        "colab": {
          "base_uri": "https://localhost:8080/",
          "height": 153
        },
        "outputId": "226aa35f-a773-4aa2-9e47-e72cb0225cf9"
      },
      "source": [
        "print(sorted([(input(\"Enter rollno: \"), input(\"Enter marks: \")) for i in range(int(input(\"Enter number of students\")))], key=lambda x: x[1],reverse=True))"
      ],
      "execution_count": 9,
      "outputs": [
        {
          "output_type": "stream",
          "text": [
            "Enter number of students3\n",
            "Enter rollno: 1\n",
            "Enter marks: 23\n",
            "Enter rollno: 2\n",
            "Enter marks: 25\n",
            "Enter rollno: 3\n",
            "Enter marks: 30\n",
            "[('3', '30'), ('2', '25'), ('1', '23')]\n"
          ],
          "name": "stdout"
        }
      ]
    },
    {
      "cell_type": "markdown",
      "metadata": {
        "id": "W0MGUKcuLJLR",
        "colab_type": "text"
      },
      "source": [
        "Get name and salary (name, salary) as list of tuples for n number of employees through keyboard and print them in name alphabetical order with salary"
      ]
    },
    {
      "cell_type": "code",
      "metadata": {
        "id": "eYZvZNwCLM7n",
        "colab_type": "code",
        "colab": {
          "base_uri": "https://localhost:8080/",
          "height": 153
        },
        "outputId": "0f5d0e40-453a-4ca2-f069-4f00833cac69"
      },
      "source": [
        "print(sorted([(input(\"Enter name: \"), input(\"Enter salary: \")) for i in range(int(input(\"Enter number of employees\")))], key=lambda x: x[0]))"
      ],
      "execution_count": 10,
      "outputs": [
        {
          "output_type": "stream",
          "text": [
            "Enter number of employees3\n",
            "Enter name: akshat\n",
            "Enter salary: 400000\n",
            "Enter name: jayraj\n",
            "Enter salary: 410000\n",
            "Enter name: dhruvil\n",
            "Enter salary: 400000\n",
            "[('akshat', '400000'), ('dhruvil', '400000'), ('jayraj', '410000')]\n"
          ],
          "name": "stdout"
        }
      ]
    }
  ]
}