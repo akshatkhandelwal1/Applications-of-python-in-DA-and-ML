{
  "nbformat": 4,
  "nbformat_minor": 0,
  "metadata": {
    "colab": {
      "name": "Day1 example programs session 1.ipynb",
      "provenance": [],
      "authorship_tag": "ABX9TyPoTzU0viJHM9/8WHIJj9PN"
    },
    "kernelspec": {
      "name": "python3",
      "display_name": "Python 3"
    }
  },
  "cells": [
    {
      "cell_type": "markdown",
      "metadata": {
        "id": "ytywkS57o86L",
        "colab_type": "text"
      },
      "source": [
        "Python Program to Add Two Numbers getting through key board\n",
        "\n",
        "\n"
      ]
    },
    {
      "cell_type": "code",
      "metadata": {
        "id": "9r1bV3EUpC_A",
        "colab_type": "code",
        "outputId": "312c02cf-d74a-4aa5-c061-f3ff7020c7d1",
        "colab": {
          "base_uri": "https://localhost:8080/",
          "height": 68
        }
      },
      "source": [
        "num1 = int(input(\"Enter first no \"))\n",
        "num2 = int(input(\"Enter second no \"))\n",
        "\n",
        "# Adding the two numbers\n",
        "sum = num1 + num2\n",
        "\n",
        "# Display the sum\n",
        "print('The sum of {0} and {1} is {2}'.format(num1, num2, sum))"
      ],
      "execution_count": 0,
      "outputs": [
        {
          "output_type": "stream",
          "text": [
            "Enter first no 2\n",
            "Enter second no 4\n",
            "The sum of 2 and 4 is 6\n"
          ],
          "name": "stdout"
        }
      ]
    },
    {
      "cell_type": "markdown",
      "metadata": {
        "id": "34D3x3IvqEAl",
        "colab_type": "text"
      },
      "source": [
        "Python program to check if the input year is a leap year or not"
      ]
    },
    {
      "cell_type": "code",
      "metadata": {
        "id": "6hmknT4uqIJx",
        "colab_type": "code",
        "colab": {
          "base_uri": "https://localhost:8080/",
          "height": 51
        },
        "outputId": "2683bc35-073c-45ee-9b7d-2008bf956245"
      },
      "source": [
        "year = int(input(\"Enter a year: \"))\n",
        "\n",
        "if ((year % 4) == 0 and (year % 100)  != 0) or ((year % 400) == 0):\n",
        "  print(\"{0} is a leap year\".format(year))\n",
        "else:\n",
        "  print(\"{0} is not a leap year\".format(year))\n"
      ],
      "execution_count": 24,
      "outputs": [
        {
          "output_type": "stream",
          "text": [
            "Enter a year: 2020\n",
            "2020 is a leap year\n"
          ],
          "name": "stdout"
        }
      ]
    },
    {
      "cell_type": "markdown",
      "metadata": {
        "id": "7a8_LwcbqPjX",
        "colab_type": "text"
      },
      "source": [
        "Program to generate a random number between 0 and 9"
      ]
    },
    {
      "cell_type": "markdown",
      "metadata": {
        "id": "i4E5jaizszf1",
        "colab_type": "text"
      },
      "source": [
        ""
      ]
    },
    {
      "cell_type": "code",
      "metadata": {
        "id": "PKt3RADtqS8m",
        "colab_type": "code",
        "outputId": "64a61cff-6e19-4631-c848-d957ed2e4a9d",
        "colab": {
          "base_uri": "https://localhost:8080/",
          "height": 34
        }
      },
      "source": [
        "import random\n",
        "print(random.randint(0,9))\n"
      ],
      "execution_count": 26,
      "outputs": [
        {
          "output_type": "stream",
          "text": [
            "9\n"
          ],
          "name": "stdout"
        }
      ]
    },
    {
      "cell_type": "markdown",
      "metadata": {
        "id": "hxTj1awsuPGq",
        "colab_type": "text"
      },
      "source": [
        "\"\"\"Calculator program\"\"\""
      ]
    },
    {
      "cell_type": "code",
      "metadata": {
        "id": "UU3Wifle7j-A",
        "colab_type": "code",
        "colab": {
          "base_uri": "https://localhost:8080/",
          "height": 408
        },
        "outputId": "b4100b0b-c3cb-4d44-b23a-30ccae7e3221"
      },
      "source": [
        "loop = 1 # 1 means loop; anything else means don't loop.\n",
        "choice = 0 # This variable holds the user's choice in the menu\n",
        "\n",
        "def add(x,y):\n",
        "    return x+y      \n",
        "def sub(x,y):\n",
        "    return x-y\n",
        "def mul(x,y):\n",
        "    return x*y\t\n",
        "def div(x,y):\n",
        "    return x/y\n",
        "\n",
        "while loop == 1:\n",
        "# Print what options you have\n",
        "  print (\"Welcome to calculator.py\")\n",
        "  print (\"your options are:\") \n",
        "  print (\"\")\n",
        "  print(\"1) Addition\")\n",
        "  print(\"2) Subtraction\")\n",
        "  print(\"3) Multiplication\")\n",
        "  print(\"4) Division\")\n",
        "  print(\"5) Quit calculator.py\")\n",
        "  print(\"\")\n",
        "  try:\n",
        "    choice = int(input(\"Choose your option: \"))\n",
        "  except:\n",
        "    print('please enter a valid number for option')\n",
        "    print(\"\")\n",
        "    print(\"\")\n",
        "  if choice == 1:\n",
        "    x = int(input(\"Enter 1st no: \"))\n",
        "    y = int(input(\"Enter 2nd no: \"))\n",
        "    print(\"The answer is \",add(x,y))\n",
        "\n",
        "  elif choice == 2:\n",
        "    x = int(input(\"Enter 1st no: \"))\n",
        "    y = int(input(\"Enter 2nd no: \"))\n",
        "    print(\"answer is \",sub(x,y))\n",
        "\n",
        "  elif choice == 3:\n",
        "    x = int(input(\"Enter 1st no: \"))\n",
        "    y = int(input(\"Enter 2nd no: \"))\n",
        "    print(\"answer is \",mul(x,y))\n",
        "\n",
        "  elif choice == 4:\n",
        "    x = int(input(\"Enter 1st no: \"))\n",
        "    y = int(input(\"Enter 2nd no: \"))\n",
        "    print(\"answer is \",div(x,y))\n",
        "\n",
        "  elif choice == 5:\n",
        "    loop = 0\n",
        "\n",
        "  else:\n",
        "    print(\"please choice a valid option from 1 to 5\")\n",
        "    choice=0\n",
        "    print (\"Thank-you for using calculator.py!\")\n"
      ],
      "execution_count": 22,
      "outputs": [
        {
          "output_type": "stream",
          "text": [
            "Welcome to calculator.py\n",
            "your options are:\n",
            "\n",
            "1) Addition\n",
            "2) Subtraction\n",
            "3) Multiplication\n",
            "4) Division\n",
            "5) Quit calculator.py\n",
            "\n",
            "Choose your option: 1\n",
            "Enter 1st no: 2\n",
            "Enter 2nd no: 3\n",
            "The answer is  5\n",
            "Welcome to calculator.py\n",
            "your options are:\n",
            "\n",
            "1) Addition\n",
            "2) Subtraction\n",
            "3) Multiplication\n",
            "4) Division\n",
            "5) Quit calculator.py\n",
            "\n",
            "Choose your option: 5\n"
          ],
          "name": "stdout"
        }
      ]
    },
    {
      "cell_type": "markdown",
      "metadata": {
        "id": "FkDo0GryrFAg",
        "colab_type": "text"
      },
      "source": [
        "Python Program to Convert Kilometers to Miles "
      ]
    },
    {
      "cell_type": "code",
      "metadata": {
        "id": "E-FxpRkOrGN8",
        "colab_type": "code",
        "colab": {
          "base_uri": "https://localhost:8080/",
          "height": 51
        },
        "outputId": "ec04d9da-174e-4b2b-87d4-b55642938a46"
      },
      "source": [
        "kilometers = int(input(\"Enter value in kilometers\"))\n",
        "\n",
        "# conversion factor\n",
        "conv_fac = 0.621371\n",
        "\n",
        "# calculate miles\n",
        "miles = kilometers * conv_fac\n",
        "print('%0.3f kilometers is equal to %0.3f miles' %(kilometers,miles))\n"
      ],
      "execution_count": 27,
      "outputs": [
        {
          "output_type": "stream",
          "text": [
            "Enter value in kilometers100\n",
            "100.000 kilometers is equal to 62.137 miles\n"
          ],
          "name": "stdout"
        }
      ]
    },
    {
      "cell_type": "markdown",
      "metadata": {
        "id": "_uGnU8zZrQAj",
        "colab_type": "text"
      },
      "source": [
        "Python Program to Solve Quadratic Equation "
      ]
    },
    {
      "cell_type": "code",
      "metadata": {
        "id": "QDkxH-vLrVIB",
        "colab_type": "code",
        "colab": {
          "base_uri": "https://localhost:8080/",
          "height": 85
        },
        "outputId": "72b1dbd7-0d1d-4073-958c-0a9a28bf7a0f"
      },
      "source": [
        "import cmath\n",
        "\n",
        "# To take coefficient input from the users\n",
        "a = float(input('Enter a: '))\n",
        "b = float(input('Enter b: '))\n",
        "c = float(input('Enter c: '))\n",
        "\n",
        "# calculate the discriminant\n",
        "d = (b**2) - (4*a*c)\n",
        "\n",
        "# find two solutions\n",
        "sol1 = (-b-cmath.sqrt(d))/(2*a)\n",
        "sol2 = (-b+cmath.sqrt(d))/(2*a)\n",
        "\n",
        "print('The solution are {0} and {1}'.format(sol1,sol2))\n"
      ],
      "execution_count": 29,
      "outputs": [
        {
          "output_type": "stream",
          "text": [
            "Enter a: 2\n",
            "Enter b: 3\n",
            "Enter c: 4\n",
            "The solution are (-0.75-1.1989578808281798j) and (-0.75+1.1989578808281798j)\n"
          ],
          "name": "stdout"
        }
      ]
    },
    {
      "cell_type": "markdown",
      "metadata": {
        "id": "bpNIwmwKre_e",
        "colab_type": "text"
      },
      "source": [
        "Python Program to find prime or not using function "
      ]
    },
    {
      "cell_type": "code",
      "metadata": {
        "id": "navvu31Zrii9",
        "colab_type": "code",
        "colab": {
          "base_uri": "https://localhost:8080/",
          "height": 51
        },
        "outputId": "58aaa5e5-f7d4-46aa-e7eb-d13ea0473403"
      },
      "source": [
        "def test_prime(n):\n",
        "  if (n==1):\n",
        "    return False\n",
        "  elif (n==2):\n",
        "    return True;\n",
        "  else:\n",
        "    for x in range(2,n):\n",
        "      if(n % x==0):\n",
        "        return False\n",
        "      return True\n",
        "no=int(input(\"Enter the number\"))\n",
        "if (test_prime(no)) is True :\n",
        "  print(\" {0} is a prime no\".format(no))\n",
        "else:\n",
        "  print(\" {0} is not a prime no\".format(no))\n"
      ],
      "execution_count": 32,
      "outputs": [
        {
          "output_type": "stream",
          "text": [
            "Enter the number6\n",
            " 6 is not a prime no\n"
          ],
          "name": "stdout"
        }
      ]
    }
  ]
}